{
 "cells": [
  {
   "cell_type": "code",
   "execution_count": 1,
   "metadata": {
    "_cell_guid": "b1076dfc-b9ad-4769-8c92-a6c4dae69d19",
    "_uuid": "8f2839f25d086af736a60e9eeb907d3b93b6e0e5"
   },
   "outputs": [
    {
     "data": {
      "text/plain": [
       "device(type='cuda')"
      ]
     },
     "execution_count": 1,
     "metadata": {},
     "output_type": "execute_result"
    }
   ],
   "source": [
    "import torch\n",
    "import pandas as pd\n",
    "from sklearn.model_selection import train_test_split\n",
    "import os\n",
    "import cv2\n",
    "import math\n",
    "import random\n",
    "from PIL import Image\n",
    "import matplotlib.pyplot as plt\n",
    "import numpy as np\n",
    "import nibabel as nib\n",
    "import torchvision\n",
    "import torch.nn as nn\n",
    "import torch.optim as optim\n",
    "from skimage import io\n",
    "import skimage\n",
    "import openslide\n",
    "from torch.optim import lr_scheduler, Adam, SGD\n",
    "from torch.utils.data import Dataset, DataLoader\n",
    "from torch.autograd import Variable\n",
    "import torchvision\n",
    "from torchvision import datasets, models, transforms\n",
    "device = torch.device('cuda' if torch.cuda.is_available() else 'cpu')\n",
    "device"
   ]
  },
  {
   "cell_type": "code",
   "execution_count": 2,
   "metadata": {},
   "outputs": [
    {
     "name": "stdout",
     "output_type": "stream",
     "text": [
      "Collecting imagecodecs\n",
      "  Downloading imagecodecs-2020.5.30-cp37-cp37m-manylinux2014_x86_64.whl (17.9 MB)\n",
      "\u001b[K     |████████████████████████████████| 17.9 MB 2.4 MB/s eta 0:00:01\n",
      "\u001b[?25hRequirement already satisfied: numpy>=1.15.1 in /opt/conda/lib/python3.7/site-packages (from imagecodecs) (1.18.1)\n",
      "Installing collected packages: imagecodecs\n",
      "Successfully installed imagecodecs-2020.5.30\n"
     ]
    }
   ],
   "source": [
    "!pip install imagecodecs\n",
    "# !pip uninstall tifffile"
   ]
  },
  {
   "cell_type": "code",
   "execution_count": 3,
   "metadata": {
    "_cell_guid": "79c7e3d0-c299-4dcb-8224-4455121ee9b0",
    "_uuid": "d629ff2d2480ee46fbb7e2d37f6b5fab8052498a"
   },
   "outputs": [],
   "source": [
    "BASE_PATH='../input/prostate-cancer-grade-assessment/'\n",
    "TRAIN_IMAGES_PATH = BASE_PATH + 'train_images/'\n",
    "TRAIN_LABELS_PATH = BASE_PATH + 'train_label_masks/'\n",
    "TEST_IMAGES_PATH = BASE_PATH+'test_images'\n",
    "SAMPLE = BASE_PATH+'sample_submission.csv'\n",
    "TRAIN=BASE_PATH+'train.csv'\n",
    "TEST = BASE_PATH+'test.csv'\n",
    "\n",
    "train_df = pd.read_csv(TRAIN)\n",
    "train = train_df.copy()\n",
    "test_df = pd.read_csv(TEST)\n",
    "test = test_df.copy()"
   ]
  },
  {
   "cell_type": "code",
   "execution_count": 4,
   "metadata": {},
   "outputs": [],
   "source": [
    "masks=os.listdir(BASE_PATH+'train_label_masks/')\n",
    "images=os.listdir(BASE_PATH+'train_images/')\n",
    "df_masks=pd.Series(masks).to_frame()\n",
    "df_masks.columns=['mask_file_name']\n",
    "df_masks['image_id']=df_masks.mask_file_name.apply(lambda x:x.split('_')[0])\n",
    "df_train=pd.merge(train,df_masks,on='image_id',how='outer')\n",
    "del df_masks"
   ]
  },
  {
   "cell_type": "code",
   "execution_count": 5,
   "metadata": {},
   "outputs": [],
   "source": [
    "gleason_replace_dict = {0:0, 1:1, 3:2, 4:3, 5:4}\n",
    "\n",
    "def process_gleason(gleason):\n",
    "    if gleason == 'negative': gs = (1, 1)\n",
    "    else: gs = tuple(gleason.split('+'))\n",
    "    return [gleason_replace_dict[int(g)] for g in gs]\n",
    "\n",
    "df_train.gleason_score = df_train.gleason_score.apply(process_gleason)"
   ]
  },
  {
   "cell_type": "code",
   "execution_count": 6,
   "metadata": {},
   "outputs": [
    {
     "data": {
      "text/html": [
       "<div>\n",
       "<style scoped>\n",
       "    .dataframe tbody tr th:only-of-type {\n",
       "        vertical-align: middle;\n",
       "    }\n",
       "\n",
       "    .dataframe tbody tr th {\n",
       "        vertical-align: top;\n",
       "    }\n",
       "\n",
       "    .dataframe thead th {\n",
       "        text-align: right;\n",
       "    }\n",
       "</style>\n",
       "<table border=\"1\" class=\"dataframe\">\n",
       "  <thead>\n",
       "    <tr style=\"text-align: right;\">\n",
       "      <th></th>\n",
       "      <th>image_id</th>\n",
       "      <th>data_provider</th>\n",
       "      <th>isup_grade</th>\n",
       "      <th>gleason_score</th>\n",
       "      <th>mask_file_name</th>\n",
       "    </tr>\n",
       "  </thead>\n",
       "  <tbody>\n",
       "    <tr>\n",
       "      <th>0</th>\n",
       "      <td>0005f7aaab2800f6170c399693a96917</td>\n",
       "      <td>karolinska</td>\n",
       "      <td>0</td>\n",
       "      <td>[0, 0]</td>\n",
       "      <td>0005f7aaab2800f6170c399693a96917_mask.tiff</td>\n",
       "    </tr>\n",
       "    <tr>\n",
       "      <th>1</th>\n",
       "      <td>000920ad0b612851f8e01bcc880d9b3d</td>\n",
       "      <td>karolinska</td>\n",
       "      <td>0</td>\n",
       "      <td>[0, 0]</td>\n",
       "      <td>000920ad0b612851f8e01bcc880d9b3d_mask.tiff</td>\n",
       "    </tr>\n",
       "    <tr>\n",
       "      <th>2</th>\n",
       "      <td>0018ae58b01bdadc8e347995b69f99aa</td>\n",
       "      <td>radboud</td>\n",
       "      <td>4</td>\n",
       "      <td>[3, 3]</td>\n",
       "      <td>0018ae58b01bdadc8e347995b69f99aa_mask.tiff</td>\n",
       "    </tr>\n",
       "    <tr>\n",
       "      <th>3</th>\n",
       "      <td>001c62abd11fa4b57bf7a6c603a11bb9</td>\n",
       "      <td>karolinska</td>\n",
       "      <td>4</td>\n",
       "      <td>[3, 3]</td>\n",
       "      <td>001c62abd11fa4b57bf7a6c603a11bb9_mask.tiff</td>\n",
       "    </tr>\n",
       "    <tr>\n",
       "      <th>4</th>\n",
       "      <td>001d865e65ef5d2579c190a0e0350d8f</td>\n",
       "      <td>karolinska</td>\n",
       "      <td>0</td>\n",
       "      <td>[0, 0]</td>\n",
       "      <td>001d865e65ef5d2579c190a0e0350d8f_mask.tiff</td>\n",
       "    </tr>\n",
       "  </tbody>\n",
       "</table>\n",
       "</div>"
      ],
      "text/plain": [
       "                           image_id data_provider  isup_grade gleason_score  \\\n",
       "0  0005f7aaab2800f6170c399693a96917    karolinska           0        [0, 0]   \n",
       "1  000920ad0b612851f8e01bcc880d9b3d    karolinska           0        [0, 0]   \n",
       "2  0018ae58b01bdadc8e347995b69f99aa       radboud           4        [3, 3]   \n",
       "3  001c62abd11fa4b57bf7a6c603a11bb9    karolinska           4        [3, 3]   \n",
       "4  001d865e65ef5d2579c190a0e0350d8f    karolinska           0        [0, 0]   \n",
       "\n",
       "                               mask_file_name  \n",
       "0  0005f7aaab2800f6170c399693a96917_mask.tiff  \n",
       "1  000920ad0b612851f8e01bcc880d9b3d_mask.tiff  \n",
       "2  0018ae58b01bdadc8e347995b69f99aa_mask.tiff  \n",
       "3  001c62abd11fa4b57bf7a6c603a11bb9_mask.tiff  \n",
       "4  001d865e65ef5d2579c190a0e0350d8f_mask.tiff  "
      ]
     },
     "execution_count": 6,
     "metadata": {},
     "output_type": "execute_result"
    }
   ],
   "source": [
    "df_train.head()"
   ]
  },
  {
   "cell_type": "code",
   "execution_count": 7,
   "metadata": {},
   "outputs": [
    {
     "name": "stderr",
     "output_type": "stream",
     "text": [
      "/opt/conda/lib/python3.7/site-packages/ipykernel_launcher.py:5: SettingWithCopyWarning: \n",
      "A value is trying to be set on a copy of a slice from a DataFrame\n",
      "\n",
      "See the caveats in the documentation: https://pandas.pydata.org/pandas-docs/stable/user_guide/indexing.html#returning-a-view-versus-a-copy\n",
      "  \"\"\"\n",
      "/opt/conda/lib/python3.7/site-packages/ipykernel_launcher.py:6: SettingWithCopyWarning: \n",
      "A value is trying to be set on a copy of a slice from a DataFrame\n",
      "\n",
      "See the caveats in the documentation: https://pandas.pydata.org/pandas-docs/stable/user_guide/indexing.html#returning-a-view-versus-a-copy\n",
      "  \n"
     ]
    }
   ],
   "source": [
    "df_train['gleason_primary'] = ''\n",
    "df_train['gleason_secondary'] = ''\n",
    "\n",
    "for idx in range(0, len(df_train.gleason_score)):\n",
    "    df_train['gleason_primary'][idx] = df_train['gleason_score'][idx][0]\n",
    "    df_train['gleason_secondary'][idx] = df_train['gleason_score'][idx][1]\n",
    "    \n",
    "df_train = df_train.drop(['gleason_score'], axis=1)\n",
    "# df_train.head()"
   ]
  },
  {
   "cell_type": "code",
   "execution_count": 8,
   "metadata": {},
   "outputs": [
    {
     "data": {
      "text/html": [
       "<div>\n",
       "<style scoped>\n",
       "    .dataframe tbody tr th:only-of-type {\n",
       "        vertical-align: middle;\n",
       "    }\n",
       "\n",
       "    .dataframe tbody tr th {\n",
       "        vertical-align: top;\n",
       "    }\n",
       "\n",
       "    .dataframe thead th {\n",
       "        text-align: right;\n",
       "    }\n",
       "</style>\n",
       "<table border=\"1\" class=\"dataframe\">\n",
       "  <thead>\n",
       "    <tr style=\"text-align: right;\">\n",
       "      <th></th>\n",
       "      <th>image_id</th>\n",
       "      <th>data_provider</th>\n",
       "      <th>isup_grade</th>\n",
       "      <th>mask_file_name</th>\n",
       "      <th>gleason_primary</th>\n",
       "      <th>gleason_secondary</th>\n",
       "    </tr>\n",
       "  </thead>\n",
       "  <tbody>\n",
       "    <tr>\n",
       "      <th>0</th>\n",
       "      <td>0005f7aaab2800f6170c399693a96917</td>\n",
       "      <td>karolinska</td>\n",
       "      <td>0</td>\n",
       "      <td>0005f7aaab2800f6170c399693a96917_mask.tiff</td>\n",
       "      <td>0</td>\n",
       "      <td>0</td>\n",
       "    </tr>\n",
       "    <tr>\n",
       "      <th>1</th>\n",
       "      <td>000920ad0b612851f8e01bcc880d9b3d</td>\n",
       "      <td>karolinska</td>\n",
       "      <td>0</td>\n",
       "      <td>000920ad0b612851f8e01bcc880d9b3d_mask.tiff</td>\n",
       "      <td>0</td>\n",
       "      <td>0</td>\n",
       "    </tr>\n",
       "    <tr>\n",
       "      <th>2</th>\n",
       "      <td>0018ae58b01bdadc8e347995b69f99aa</td>\n",
       "      <td>radboud</td>\n",
       "      <td>4</td>\n",
       "      <td>0018ae58b01bdadc8e347995b69f99aa_mask.tiff</td>\n",
       "      <td>3</td>\n",
       "      <td>3</td>\n",
       "    </tr>\n",
       "    <tr>\n",
       "      <th>3</th>\n",
       "      <td>001c62abd11fa4b57bf7a6c603a11bb9</td>\n",
       "      <td>karolinska</td>\n",
       "      <td>4</td>\n",
       "      <td>001c62abd11fa4b57bf7a6c603a11bb9_mask.tiff</td>\n",
       "      <td>3</td>\n",
       "      <td>3</td>\n",
       "    </tr>\n",
       "    <tr>\n",
       "      <th>4</th>\n",
       "      <td>001d865e65ef5d2579c190a0e0350d8f</td>\n",
       "      <td>karolinska</td>\n",
       "      <td>0</td>\n",
       "      <td>001d865e65ef5d2579c190a0e0350d8f_mask.tiff</td>\n",
       "      <td>0</td>\n",
       "      <td>0</td>\n",
       "    </tr>\n",
       "  </tbody>\n",
       "</table>\n",
       "</div>"
      ],
      "text/plain": [
       "                           image_id data_provider  isup_grade  \\\n",
       "0  0005f7aaab2800f6170c399693a96917    karolinska           0   \n",
       "1  000920ad0b612851f8e01bcc880d9b3d    karolinska           0   \n",
       "2  0018ae58b01bdadc8e347995b69f99aa       radboud           4   \n",
       "3  001c62abd11fa4b57bf7a6c603a11bb9    karolinska           4   \n",
       "4  001d865e65ef5d2579c190a0e0350d8f    karolinska           0   \n",
       "\n",
       "                               mask_file_name gleason_primary  \\\n",
       "0  0005f7aaab2800f6170c399693a96917_mask.tiff               0   \n",
       "1  000920ad0b612851f8e01bcc880d9b3d_mask.tiff               0   \n",
       "2  0018ae58b01bdadc8e347995b69f99aa_mask.tiff               3   \n",
       "3  001c62abd11fa4b57bf7a6c603a11bb9_mask.tiff               3   \n",
       "4  001d865e65ef5d2579c190a0e0350d8f_mask.tiff               0   \n",
       "\n",
       "  gleason_secondary  \n",
       "0                 0  \n",
       "1                 0  \n",
       "2                 3  \n",
       "3                 3  \n",
       "4                 0  "
      ]
     },
     "execution_count": 8,
     "metadata": {},
     "output_type": "execute_result"
    }
   ],
   "source": [
    "df_train.head()"
   ]
  },
  {
   "cell_type": "markdown",
   "metadata": {},
   "source": [
    "## Removing mask values"
   ]
  },
  {
   "cell_type": "code",
   "execution_count": 9,
   "metadata": {},
   "outputs": [
    {
     "data": {
      "text/plain": [
       "100"
      ]
     },
     "execution_count": 9,
     "metadata": {},
     "output_type": "execute_result"
    }
   ],
   "source": [
    "df_train['mask_file_name'].isnull().sum()"
   ]
  },
  {
   "cell_type": "code",
   "execution_count": 10,
   "metadata": {},
   "outputs": [],
   "source": [
    "df_train.dropna(subset=['mask_file_name'], inplace=True, axis=0)"
   ]
  },
  {
   "cell_type": "code",
   "execution_count": 11,
   "metadata": {},
   "outputs": [
    {
     "data": {
      "text/html": [
       "<div>\n",
       "<style scoped>\n",
       "    .dataframe tbody tr th:only-of-type {\n",
       "        vertical-align: middle;\n",
       "    }\n",
       "\n",
       "    .dataframe tbody tr th {\n",
       "        vertical-align: top;\n",
       "    }\n",
       "\n",
       "    .dataframe thead th {\n",
       "        text-align: right;\n",
       "    }\n",
       "</style>\n",
       "<table border=\"1\" class=\"dataframe\">\n",
       "  <thead>\n",
       "    <tr style=\"text-align: right;\">\n",
       "      <th></th>\n",
       "      <th>image_id</th>\n",
       "      <th>data_provider</th>\n",
       "      <th>isup_grade</th>\n",
       "      <th>mask_file_name</th>\n",
       "      <th>gleason_primary</th>\n",
       "      <th>gleason_secondary</th>\n",
       "    </tr>\n",
       "  </thead>\n",
       "  <tbody>\n",
       "    <tr>\n",
       "      <th>0</th>\n",
       "      <td>0005f7aaab2800f6170c399693a96917</td>\n",
       "      <td>karolinska</td>\n",
       "      <td>0</td>\n",
       "      <td>0005f7aaab2800f6170c399693a96917_mask.tiff</td>\n",
       "      <td>0</td>\n",
       "      <td>0</td>\n",
       "    </tr>\n",
       "    <tr>\n",
       "      <th>1</th>\n",
       "      <td>000920ad0b612851f8e01bcc880d9b3d</td>\n",
       "      <td>karolinska</td>\n",
       "      <td>0</td>\n",
       "      <td>000920ad0b612851f8e01bcc880d9b3d_mask.tiff</td>\n",
       "      <td>0</td>\n",
       "      <td>0</td>\n",
       "    </tr>\n",
       "    <tr>\n",
       "      <th>2</th>\n",
       "      <td>0018ae58b01bdadc8e347995b69f99aa</td>\n",
       "      <td>radboud</td>\n",
       "      <td>4</td>\n",
       "      <td>0018ae58b01bdadc8e347995b69f99aa_mask.tiff</td>\n",
       "      <td>3</td>\n",
       "      <td>3</td>\n",
       "    </tr>\n",
       "    <tr>\n",
       "      <th>3</th>\n",
       "      <td>001c62abd11fa4b57bf7a6c603a11bb9</td>\n",
       "      <td>karolinska</td>\n",
       "      <td>4</td>\n",
       "      <td>001c62abd11fa4b57bf7a6c603a11bb9_mask.tiff</td>\n",
       "      <td>3</td>\n",
       "      <td>3</td>\n",
       "    </tr>\n",
       "    <tr>\n",
       "      <th>4</th>\n",
       "      <td>001d865e65ef5d2579c190a0e0350d8f</td>\n",
       "      <td>karolinska</td>\n",
       "      <td>0</td>\n",
       "      <td>001d865e65ef5d2579c190a0e0350d8f_mask.tiff</td>\n",
       "      <td>0</td>\n",
       "      <td>0</td>\n",
       "    </tr>\n",
       "  </tbody>\n",
       "</table>\n",
       "</div>"
      ],
      "text/plain": [
       "                           image_id data_provider  isup_grade  \\\n",
       "0  0005f7aaab2800f6170c399693a96917    karolinska           0   \n",
       "1  000920ad0b612851f8e01bcc880d9b3d    karolinska           0   \n",
       "2  0018ae58b01bdadc8e347995b69f99aa       radboud           4   \n",
       "3  001c62abd11fa4b57bf7a6c603a11bb9    karolinska           4   \n",
       "4  001d865e65ef5d2579c190a0e0350d8f    karolinska           0   \n",
       "\n",
       "                               mask_file_name gleason_primary  \\\n",
       "0  0005f7aaab2800f6170c399693a96917_mask.tiff               0   \n",
       "1  000920ad0b612851f8e01bcc880d9b3d_mask.tiff               0   \n",
       "2  0018ae58b01bdadc8e347995b69f99aa_mask.tiff               3   \n",
       "3  001c62abd11fa4b57bf7a6c603a11bb9_mask.tiff               3   \n",
       "4  001d865e65ef5d2579c190a0e0350d8f_mask.tiff               0   \n",
       "\n",
       "  gleason_secondary  \n",
       "0                 0  \n",
       "1                 0  \n",
       "2                 3  \n",
       "3                 3  \n",
       "4                 0  "
      ]
     },
     "execution_count": 11,
     "metadata": {},
     "output_type": "execute_result"
    }
   ],
   "source": [
    "df_train.head()"
   ]
  },
  {
   "cell_type": "code",
   "execution_count": 12,
   "metadata": {},
   "outputs": [],
   "source": [
    "X = df_train.drop(['isup_grade'], axis=1)\n",
    "Y= df_train['mask_file_name']"
   ]
  },
  {
   "cell_type": "code",
   "execution_count": 13,
   "metadata": {},
   "outputs": [],
   "source": [
    "X_train, X_valid, y_train, y_valid = train_test_split(X ,Y, test_size=0.2, random_state=1234)"
   ]
  },
  {
   "cell_type": "code",
   "execution_count": 14,
   "metadata": {},
   "outputs": [],
   "source": [
    "def patching(img, tile_size = (224, 224), offset = (224, 224)):\n",
    "    img_shape = img.shape\n",
    "    patches_list = []\n",
    "    for i in range(int(math.ceil(img_shape[0]/(offset[1] * 1.0)))):\n",
    "        for j in range(int(math.ceil(img_shape[1]/(offset[0] * 1.0)))):\n",
    "            cropped_image = img[offset[1]*i:min(offset[1]*i+tile_size[1], img_shape[0]), offset[0]*j:min(offset[0]*j+tile_size[0], img_shape[1])]\n",
    "            cropped_img = cropped_image.astype(np.float32)\n",
    "            patches_list.append(cropped_img)\n",
    "#     print('make the patches and convert them to float')\n",
    "    image = np.array(patches_list)\n",
    "    return image "
   ]
  },
  {
   "cell_type": "code",
   "execution_count": 15,
   "metadata": {},
   "outputs": [],
   "source": [
    "# print(os.listdir(\"../working\"))"
   ]
  },
  {
   "cell_type": "code",
   "execution_count": 16,
   "metadata": {},
   "outputs": [],
   "source": [
    "# im = '../working/imagename1.bmp'\n",
    "# plt.imshow(im)"
   ]
  },
  {
   "cell_type": "code",
   "execution_count": 17,
   "metadata": {},
   "outputs": [],
   "source": [
    "# file_path = f'../input/prostate-cancer-grade-assessment/train_images/068b0e3be4c35ea983f77accf8351cc8.tiff'\n",
    "# # file_path= f'../input/prostate-cancer-grade-assessment/train_label_masks/068b0e3be4c35ea983f77accf8351cc8_mask.tiff'\n",
    "# image = skimage.io.MultiImage(file_path)[-1]\n",
    "# image = cv2.resize(image, (1120, 1120))\n",
    "# skimage.io.imsave(\"imagename1.png\", image)\n",
    "# plt.imshow(image)"
   ]
  },
  {
   "cell_type": "code",
   "execution_count": 18,
   "metadata": {},
   "outputs": [],
   "source": [
    "# np.unique(image[:,:,0])"
   ]
  },
  {
   "cell_type": "code",
   "execution_count": 19,
   "metadata": {},
   "outputs": [],
   "source": [
    "# len(np.unique(x[0]))"
   ]
  },
  {
   "cell_type": "code",
   "execution_count": 20,
   "metadata": {},
   "outputs": [],
   "source": [
    "# import matplotlib\n",
    "# file_path = '../working/imagename1.png'\n",
    "# image = skimage.io.MultiImage(file_path)[-1]\n",
    "# image = cv2.resize(image, (1120, 1120))\n",
    "# x = patching(image, tile_size = (224, 224), offset = (224, 224))\n",
    "\n",
    "# # f, ax = plt.subplots(5,5, figsize=(18,22))\n",
    "# # for i in range(len(x)):\n",
    "# #     ax[i//5, i%5].imshow(x[i])"
   ]
  },
  {
   "cell_type": "code",
   "execution_count": 21,
   "metadata": {},
   "outputs": [],
   "source": [
    "def prePatch(file_path):\n",
    "    image = skimage.io.MultiImage(file_path)[-1]\n",
    "    x = patching(image, tile_size = (224, 224), offset = (224, 224))\n",
    "    return x"
   ]
  },
  {
   "cell_type": "code",
   "execution_count": 22,
   "metadata": {},
   "outputs": [],
   "source": [
    "\n",
    "class TrainDataset(Dataset):\n",
    "    def __init__(self, df, labels, transform = None):\n",
    "        self.df = df\n",
    "        self.labels = labels\n",
    "        self.transform = transform\n",
    "        \n",
    "    def __len__(self):\n",
    "        return len(self.df)\n",
    "\n",
    "\n",
    "    def __getitem__(self, idx):\n",
    "        file_name = self.df['image_id'].values[idx]\n",
    "        file_name_label = self.labels.values[idx]\n",
    "        file_path = f'../input/prostate-cancer-grade-assessment/train_images/{file_name}.tiff'\n",
    "        file_path_label = f'../input/prostate-cancer-grade-assessment/train_label_masks/{file_name_label}'\n",
    "        image = skimage.io.MultiImage(file_path)[-1]\n",
    "        image = cv2.cvtColor(image, cv2.COLOR_BGR2RGB)\n",
    "        image = cv2.resize(image, (1120, 1120))\n",
    "        skimage.io.imsave(\"biopsy.png\", image)\n",
    "#         print('image reading now moving to patching')\n",
    "        image = prePatch('../working/biopsy.png')\n",
    "        \n",
    "        label = skimage.io.MultiImage(file_path_label)[-1]\n",
    "        label = cv2.resize(label, (1120, 1120))\n",
    "        skimage.io.imsave(\"biopsy_label.png\", label)\n",
    "        label = prePatch('../working/biopsy_label.png')\n",
    "        \n",
    "#         new_image=[]\n",
    "#         new_label =[]\n",
    "        \n",
    "#         for i in range(len(image)):\n",
    "#             if(len(np.unique(image[i]))!=1):\n",
    "                \n",
    "#                 new_image.append(image[i])\n",
    "#                 new_label.append(label[i])\n",
    "        \n",
    "\n",
    "#         print(\">> new image , new label\",len(new_image), \" , \", len(new_label))\n",
    "#         image = np.array(new_image)\n",
    "#         label = np.array(new_label)\n",
    "#         print(\">> new image , new label\",image.shape, \" , \", label.shape)\n",
    "        return image, label"
   ]
  },
  {
   "cell_type": "code",
   "execution_count": 23,
   "metadata": {},
   "outputs": [],
   "source": [
    "train_dataset = TrainDataset(X_train, y_train, transform= None) \n",
    "valid_dataset = TrainDataset(X_valid, y_valid, transform= None) \n",
    "train_loader = DataLoader(train_dataset, batch_size=1, num_workers = 0)\n",
    "valid_loader = DataLoader(valid_dataset, batch_size=1, num_workers = 0)"
   ]
  },
  {
   "cell_type": "code",
   "execution_count": 24,
   "metadata": {},
   "outputs": [
    {
     "name": "stderr",
     "output_type": "stream",
     "text": [
      "/opt/conda/lib/python3.7/site-packages/ipykernel_launcher.py:25: UserWarning: biopsy_label.png is a low contrast image\n"
     ]
    }
   ],
   "source": [
    "images, classes = next(iter(train_loader))"
   ]
  },
  {
   "cell_type": "code",
   "execution_count": 25,
   "metadata": {},
   "outputs": [
    {
     "data": {
      "text/plain": [
       "<matplotlib.image.AxesImage at 0x7f24f748fc90>"
      ]
     },
     "execution_count": 25,
     "metadata": {},
     "output_type": "execute_result"
    },
    {
     "data": {
      "image/png": "[encoded data removed]",
      "text/plain": [
       "<Figure size 432x288 with 1 Axes>"
      ]
     },
     "metadata": {
      "needs_background": "light"
     },
     "output_type": "display_data"
    }
   ],
   "source": [
    "classes.shape\n",
    "plt.imshow(classes[0][4])"
   ]
  },
  {
   "cell_type": "code",
   "execution_count": 26,
   "metadata": {},
   "outputs": [],
   "source": [
    "import torch.nn.functional as F\n",
    "class DoubleConv(nn.Module):\n",
    "    \"\"\"(convolution => [BN] => ReLU) * 2\"\"\"\n",
    "\n",
    "    def __init__(self, in_channels, out_channels, mid_channels=None):\n",
    "        super().__init__()\n",
    "        if not mid_channels:\n",
    "            mid_channels = out_channels\n",
    "        self.double_conv = nn.Sequential(\n",
    "            nn.Conv2d(in_channels, mid_channels, kernel_size=3, padding=1),\n",
    "            nn.BatchNorm2d(mid_channels),\n",
    "            nn.ReLU(inplace=True),\n",
    "            nn.Conv2d(mid_channels, out_channels, kernel_size=3, padding=1),\n",
    "            nn.BatchNorm2d(out_channels),\n",
    "            nn.ReLU(inplace=True)\n",
    "        )\n",
    "\n",
    "    def forward(self, x):\n",
    "        return self.double_conv(x)\n",
    "\n",
    "\n",
    "class Down(nn.Module):\n",
    "    \"\"\"Downscaling with maxpool then double conv\"\"\"\n",
    "\n",
    "    def __init__(self, in_channels, out_channels):\n",
    "        super().__init__()\n",
    "        self.maxpool_conv = nn.Sequential(\n",
    "            nn.MaxPool2d(2),\n",
    "            DoubleConv(in_channels, out_channels)\n",
    "        )\n",
    "\n",
    "    def forward(self, x):\n",
    "        return self.maxpool_conv(x)\n",
    "\n",
    "\n",
    "class Up(nn.Module):\n",
    "    \"\"\"Upscaling then double conv\"\"\"\n",
    "\n",
    "    def __init__(self, in_channels, out_channels, bilinear=True):\n",
    "        super().__init__()\n",
    "\n",
    "        # if bilinear, use the normal convolutions to reduce the number of channels\n",
    "        if bilinear:\n",
    "            self.up = nn.Upsample(scale_factor=2, mode='bilinear', align_corners=True)\n",
    "            self.conv = DoubleConv(in_channels, out_channels, in_channels // 2)\n",
    "        else:\n",
    "            self.up = nn.ConvTranspose2d(in_channels , in_channels // 2, kernel_size=2, stride=2)\n",
    "            self.conv = DoubleConv(in_channels, out_channels)\n",
    "\n",
    "\n",
    "    def forward(self, x1, x2):\n",
    "        x1 = self.up(x1)\n",
    "        # input is CHW\n",
    "        diffY = x2.size()[2] - x1.size()[2]\n",
    "        diffX = x2.size()[3] - x1.size()[3]\n",
    "\n",
    "        x1 = F.pad(x1, [diffX // 2, diffX - diffX // 2,\n",
    "                        diffY // 2, diffY - diffY // 2])\n",
    "        # if you have padding issues, see\n",
    "        # https://github.com/HaiyongJiang/U-Net-Pytorch-Unstructured-Buggy/commit/0e854509c2cea854e247a9c615f175f76fbb2e3a\n",
    "        # https://github.com/xiaopeng-liao/Pytorch-UNet/commit/8ebac70e633bac59fc22bb5195e513d5832fb3bd\n",
    "        x = torch.cat([x2, x1], dim=1)\n",
    "        return self.conv(x)\n",
    "\n",
    "\n",
    "class OutConv(nn.Module):\n",
    "    def __init__(self, in_channels, out_channels):\n",
    "        super(OutConv, self).__init__()\n",
    "        self.conv = nn.Conv2d(in_channels, out_channels, kernel_size=1)\n",
    "\n",
    "    def forward(self, x):\n",
    "        return self.conv(x)\n",
    "class UNet(nn.Module):\n",
    "    def __init__(self, n_channels, n_classes, bilinear=True):\n",
    "        super(UNet, self).__init__()\n",
    "        self.n_channels = n_channels\n",
    "        self.n_classes = n_classes\n",
    "        self.bilinear = bilinear\n",
    "\n",
    "        self.inc = DoubleConv(n_channels, 64)\n",
    "        self.down1 = Down(64, 128)\n",
    "        self.down2 = Down(128, 256)\n",
    "        self.down3 = Down(256, 512)\n",
    "        factor = 2 if bilinear else 1\n",
    "        self.down4 = Down(512, 1024 // factor)\n",
    "        self.up1 = Up(1024, 512 // factor, bilinear)\n",
    "        self.up2 = Up(512, 256 // factor, bilinear)\n",
    "        self.up3 = Up(256, 128 // factor, bilinear)\n",
    "        self.up4 = Up(128, 64, bilinear)\n",
    "        self.outc = OutConv(64, n_classes)\n",
    "\n",
    "    def forward(self, x):\n",
    "        x1 = self.inc(x)\n",
    "        x2 = self.down1(x1)\n",
    "        x3 = self.down2(x2)\n",
    "        x4 = self.down3(x3)\n",
    "        x5 = self.down4(x4)\n",
    "        x = self.up1(x5, x4)\n",
    "        x = self.up2(x, x3)\n",
    "        x = self.up3(x, x2)\n",
    "        x = self.up4(x, x1)\n",
    "        logits = self.outc(x)\n",
    "        return logits"
   ]
  },
  {
   "cell_type": "code",
   "execution_count": 27,
   "metadata": {},
   "outputs": [],
   "source": [
    "model = UNet(n_channels=3, n_classes=3)"
   ]
  },
  {
   "cell_type": "code",
   "execution_count": 28,
   "metadata": {},
   "outputs": [],
   "source": [
    "criterion = nn.BCEWithLogitsLoss()\n",
    "optimizer = optim.SGD(model.parameters(), lr=0.02, momentum=0.5)"
   ]
  },
  {
   "cell_type": "code",
   "execution_count": 29,
   "metadata": {},
   "outputs": [],
   "source": [
    "def dice_loss(inputs, target):\n",
    "    inputs = torch.sigmoid(inputs)\n",
    "    smooth = 1.\n",
    "    iflat = inputs.contiguous().view(-1)\n",
    "    tflat = target.contiguous().view(-1)\n",
    "    intersection = (iflat * tflat).sum()\n",
    "    loss = 1 - ((2. * intersection + smooth) / (iflat.sum() + tflat.sum() + smooth))\n",
    "    return loss"
   ]
  },
  {
   "cell_type": "code",
   "execution_count": 30,
   "metadata": {},
   "outputs": [
    {
     "name": "stdout",
     "output_type": "stream",
     "text": [
      "Epoch has started\n"
     ]
    },
    {
     "name": "stderr",
     "output_type": "stream",
     "text": [
      "/opt/conda/lib/python3.7/site-packages/ipykernel_launcher.py:25: UserWarning: biopsy_label.png is a low contrast image\n"
     ]
    },
    {
     "name": "stdout",
     "output_type": "stream",
     "text": [
      "epoch number  0 \t Training loss value 8.006072928664007e-05   Validation Loss Value 0   training dice Value tensor(0.0001, device='cuda:0', grad_fn=<DivBackward0>)   Validation dice Value 0\n",
      "epoch number  1 \t Training loss value 7.588139642605712e-05   Validation Loss Value 0   training dice Value tensor(0.0001, device='cuda:0', grad_fn=<DivBackward0>)   Validation dice Value 0\n",
      "epoch number  2 \t Training loss value 6.966870340119642e-05   Validation Loss Value 0   training dice Value tensor(0.0001, device='cuda:0', grad_fn=<DivBackward0>)   Validation dice Value 0\n",
      "epoch number  3 \t Training loss value 6.335586862115138e-05   Validation Loss Value 0   training dice Value tensor(0.0001, device='cuda:0', grad_fn=<DivBackward0>)   Validation dice Value 0\n",
      "epoch number  4 \t Training loss value 5.6319484328634104e-05   Validation Loss Value 0   training dice Value tensor(0.0001, device='cuda:0', grad_fn=<DivBackward0>)   Validation dice Value 0\n",
      "epoch number  5 \t Training loss value 4.868967882860178e-05   Validation Loss Value 0   training dice Value tensor(0.0001, device='cuda:0', grad_fn=<DivBackward0>)   Validation dice Value 0\n",
      "epoch number  6 \t Training loss value 4.083119400104227e-05   Validation Loss Value 0   training dice Value tensor(0.0001, device='cuda:0', grad_fn=<DivBackward0>)   Validation dice Value 0\n",
      "epoch number  7 \t Training loss value 3.3218904273939656e-05   Validation Loss Value 0   training dice Value tensor(0.0001, device='cuda:0', grad_fn=<DivBackward0>)   Validation dice Value 0\n",
      "epoch number  8 \t Training loss value 2.664374741156556e-05   Validation Loss Value 0   training dice Value tensor(0.0001, device='cuda:0', grad_fn=<DivBackward0>)   Validation dice Value 0\n",
      "epoch number  9 \t Training loss value 2.1036315746552253e-05   Validation Loss Value 0   training dice Value tensor(9.7386e-05, device='cuda:0', grad_fn=<DivBackward0>)   Validation dice Value 0\n",
      "epoch number  10 \t Training loss value 1.6128955230903354e-05   Validation Loss Value 0   training dice Value tensor(9.3097e-05, device='cuda:0', grad_fn=<DivBackward0>)   Validation dice Value 0\n",
      "epoch number  11 \t Training loss value 1.2007919709227849e-05   Validation Loss Value 0   training dice Value tensor(8.7617e-05, device='cuda:0', grad_fn=<DivBackward0>)   Validation dice Value 0\n",
      "epoch number  12 \t Training loss value 8.700939831538705e-06   Validation Loss Value 0   training dice Value tensor(8.0847e-05, device='cuda:0', grad_fn=<DivBackward0>)   Validation dice Value 0\n",
      "epoch number  13 \t Training loss value 6.188588465784937e-06   Validation Loss Value 0   training dice Value tensor(7.2975e-05, device='cuda:0', grad_fn=<DivBackward0>)   Validation dice Value 0\n",
      "epoch number  14 \t Training loss value 4.429707176986899e-06   Validation Loss Value 0   training dice Value tensor(6.4805e-05, device='cuda:0', grad_fn=<DivBackward0>)   Validation dice Value 0\n",
      "epoch number  15 \t Training loss value 3.2564442245182514e-06   Validation Loss Value 0   training dice Value tensor(5.7170e-05, device='cuda:0', grad_fn=<DivBackward0>)   Validation dice Value 0\n",
      "epoch number  16 \t Training loss value 2.476754294964341e-06   Validation Loss Value 0   training dice Value tensor(5.0250e-05, device='cuda:0', grad_fn=<DivBackward0>)   Validation dice Value 0\n",
      "epoch number  17 \t Training loss value 1.9723594213490026e-06   Validation Loss Value 0   training dice Value tensor(4.4348e-05, device='cuda:0', grad_fn=<DivBackward0>)   Validation dice Value 0\n",
      "epoch number  18 \t Training loss value 1.6002608458739602e-06   Validation Loss Value 0   training dice Value tensor(3.8727e-05, device='cuda:0', grad_fn=<DivBackward0>)   Validation dice Value 0\n",
      "epoch number  19 \t Training loss value 1.2425001209342248e-06   Validation Loss Value 0   training dice Value tensor(3.2223e-05, device='cuda:0', grad_fn=<DivBackward0>)   Validation dice Value 0\n",
      "epoch number  20 \t Training loss value 9.494551328594096e-07   Validation Loss Value 0   training dice Value tensor(2.6351e-05, device='cuda:0', grad_fn=<DivBackward0>)   Validation dice Value 0\n",
      "epoch number  21 \t Training loss value 7.040863985100986e-07   Validation Loss Value 0   training dice Value tensor(2.1530e-05, device='cuda:0', grad_fn=<DivBackward0>)   Validation dice Value 0\n",
      "epoch number  22 \t Training loss value 4.333533506966238e-07   Validation Loss Value 0   training dice Value tensor(1.6675e-05, device='cuda:0', grad_fn=<DivBackward0>)   Validation dice Value 0\n",
      "epoch number  23 \t Training loss value 1.391989295869088e-07   Validation Loss Value 0   training dice Value tensor(1.2386e-05, device='cuda:0', grad_fn=<DivBackward0>)   Validation dice Value 0\n",
      "epoch number  24 \t Training loss value -1.4389604978844402e-07   Validation Loss Value 0   training dice Value tensor(9.0153e-06, device='cuda:0', grad_fn=<DivBackward0>)   Validation dice Value 0\n",
      "epoch number  25 \t Training loss value -4.3307072662359125e-07   Validation Loss Value 0   training dice Value tensor(6.3183e-06, device='cuda:0', grad_fn=<DivBackward0>)   Validation dice Value 0\n",
      "epoch number  26 \t Training loss value -7.265692805278828e-07   Validation Loss Value 0   training dice Value tensor(4.2618e-06, device='cuda:0', grad_fn=<DivBackward0>)   Validation dice Value 0\n",
      "epoch number  27 \t Training loss value -1.0179347990597081e-06   Validation Loss Value 0   training dice Value tensor(2.7591e-06, device='cuda:0', grad_fn=<DivBackward0>)   Validation dice Value 0\n",
      "epoch number  28 \t Training loss value -1.3085660098197626e-06   Validation Loss Value 0   training dice Value tensor(1.6903e-06, device='cuda:0', grad_fn=<DivBackward0>)   Validation dice Value 0\n",
      "epoch number  29 \t Training loss value -1.6034374397054945e-06   Validation Loss Value 0   training dice Value tensor(9.3916e-07, device='cuda:0', grad_fn=<DivBackward0>)   Validation dice Value 0\n"
     ]
    }
   ],
   "source": [
    "num_epochs = 30\n",
    "model.to(device)\n",
    "history = []\n",
    "\n",
    "print('Epoch has started') \n",
    "\n",
    "for epoch in range(num_epochs): \n",
    "    train_loss_total = 0.0 \n",
    "    valid_loss_total = 0.0 \n",
    "    tot = 0\n",
    "    tot_train = 0\n",
    "    lossV = 0\n",
    "    lossL = 0\n",
    "      \n",
    "    for images, labels in iter(train_loader):\n",
    "        for i in range(len(images)):\n",
    "            \n",
    "            image = images[i].to(device)\n",
    "            label = labels[i].to(device) \n",
    "\n",
    "            image = image.type(torch.cuda.FloatTensor)\n",
    "            label = label.type(torch.cuda.FloatTensor)\n",
    "\n",
    "            image = image.permute(0,3,2,1)\n",
    "            label = label.permute(0,3,2,1)\n",
    "\n",
    "            outputs = model(image)\n",
    "            loss = criterion(outputs, label) \n",
    "            loss.backward() \n",
    "            optimizer.step() \n",
    "    #       pred = (outputs > 0.5).float()\n",
    "    #       lossL += dice_coeff(pred, label).item()\n",
    "            lossL = dice_loss(outputs, label)\n",
    "    #       tot_train += lossL.item() * data.size(0)\n",
    "            train_loss_total  += loss.item()\n",
    "        break\n",
    "\n",
    "#     for datas, labels in iter(valid_loader):\n",
    "#         for i in range(len(datas)):\n",
    "#             data = datas[i].to(device)\n",
    "#             label = labels[i].to(device)\n",
    "\n",
    "#             data = data.type(torch.cuda.FloatTensor)\n",
    "#             label = label.type(torch.cuda.FloatTensor)\n",
    "\n",
    "#             data = data.permute(0,3,2,1)\n",
    "#             label = label.permute(0,3,2,1)\n",
    "\n",
    "#             outputs = model(data)\n",
    "#             loss = criterion(outputs, label)\n",
    "#     #       pred = (outputs > 0.5).float()\n",
    "#     #       lossV += dice_coeff(pred, label).item()\n",
    "\n",
    "#             lossV = dice_loss(outputs, label)\n",
    "#     #       tot += lossV.item() * data.size(0)\n",
    "#             valid_loss_total  += loss.item()\n",
    "#         break\n",
    " \n",
    "    train_loss_total_avg = train_loss_total / len(train_loader)\n",
    "    valid_loss_total_avg = 0 #valid_loss_total / len(valid_loader)\n",
    "    dice_train = lossL/len(train_loader)\n",
    "    dice_valid = 0 #lossV/len(valid_loader)\n",
    "    \n",
    "    history.append([train_loss_total_avg, valid_loss_total_avg, dice_train, dice_valid]) \n",
    "    print('epoch number ', epoch, \"\t\",'Training loss value', train_loss_total_avg , \" \", 'Validation Loss Value', valid_loss_total_avg \\\n",
    "         , \" \", 'training dice Value', dice_train, \" \", 'Validation dice Value', dice_valid)\n",
    "    \n",
    "history = pd.DataFrame(history, columns=['train_loss', 'valid_loss', 'dice_train', 'dice_valid'])  "
   ]
  },
  {
   "cell_type": "code",
   "execution_count": 31,
   "metadata": {},
   "outputs": [
    {
     "data": {
      "text/plain": [
       "Text(0.5, 1.0, 'Training and Validation Losses')"
      ]
     },
     "execution_count": 31,
     "metadata": {},
     "output_type": "execute_result"
    },
    {
     "data": {
      "image/png": "[encoded data removed]",
      "text/plain": [
       "<Figure size 576x432 with 1 Axes>"
      ]
     },
     "metadata": {
      "needs_background": "light"
     },
     "output_type": "display_data"
    },
    {
     "data": {
      "image/png": "[encoded data removed]",
      "text/plain": [
       "<Figure size 576x432 with 1 Axes>"
      ]
     },
     "metadata": {
      "needs_background": "light"
     },
     "output_type": "display_data"
    }
   ],
   "source": [
    "plt.figure(figsize=(8, 6))\n",
    "for c in ['train_loss', 'valid_loss']:\n",
    "    plt.plot(history[c], label=c)\n",
    "plt.legend()\n",
    "plt.xlabel('Epoch')\n",
    "plt.ylabel('BCE Loss')\n",
    "plt.title('Training and Validation Losses')\n",
    "\n",
    "plt.figure(figsize=(8, 6))\n",
    "for c in ['dice_train', 'dice_valid']:\n",
    "    plt.plot(history[c], label=c)\n",
    "plt.legend()\n",
    "plt.xlabel('Epoch')\n",
    "plt.ylabel('Dice Loss')\n",
    "plt.title('Training and Validation Losses')\n"
   ]
  },
  {
   "cell_type": "code",
   "execution_count": null,
   "metadata": {},
   "outputs": [],
   "source": [
    "pyplot.subplot(1, 3, 1) # have two plots in 1 row two columns, first plot\n",
    "# assuming im is batch x channel x h x w and channel is RGB\n",
    "im, mask = next(iter(valid_loader))\n",
    "pred = model(im)\n",
    "pyplot.plot(im[0].detach().cpu().permute(1, 3, 0))\n",
    "pyplot.subplot(1, 3, 2) # second plot\n",
    "pyplot.plot(mask[0].detach().cpu())\n",
    "pyplot.subplot(1, 3, 3) # third plot\n",
    "pyplot.plot(pred[0].detach().cpu())"
   ]
  }
 ],
 "metadata": {
  "kernelspec": {
   "display_name": "Python 3",
   "language": "python",
   "name": "python3"
  },
  "language_info": {
   "codemirror_mode": {
    "name": "ipython",
    "version": 3
   },
   "file_extension": ".py",
   "mimetype": "text/x-python",
   "name": "python",
   "nbconvert_exporter": "python",
   "pygments_lexer": "ipython3",
   "version": "3.6.8"
  }
 },
 "nbformat": 4,
 "nbformat_minor": 4
}
